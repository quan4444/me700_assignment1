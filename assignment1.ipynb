{
 "cells": [
  {
   "cell_type": "markdown",
   "metadata": {},
   "source": [
    "## Bisection method\n",
    "\n",
    "The bisection  method is a root-finding method that applies to any continuous function for which one knows two values with opposite signs [1]. While the method is simple, it comes with some disadvantages - slow convergence, requires bracketing, not suitable for multiple roots, limited precision, and requires evaluation of the function in question. Here, we will go through some examples to demonstrate the functionality and weaknesses of the bisection method.\n",
    "\n",
    "[1] https://en.wikipedia.org/wiki/Bisection_method"
   ]
  },
  {
   "cell_type": "markdown",
   "metadata": {},
   "source": [
    "### Example 1 - Warming up\n",
    "\n",
    "Let's start of with an easy example:\n",
    "\n",
    "Find the root of $y=(0.5x)^3-2$."
   ]
  },
  {
   "cell_type": "code",
   "execution_count": 1,
   "metadata": {},
   "outputs": [
    {
     "name": "stdout",
     "output_type": "stream",
     "text": [
      "found answer = 2.5198\n",
      "known answer = 2.5198\n"
     ]
    }
   ],
   "source": [
    "import numpy as np\n",
    "import bisection as bs\n",
    "from typing import Union\n",
    "\n",
    "def my_function(x:Union[int,float])->Union[int,float]:\n",
    "    return (0.5*x)**3 - 2\n",
    "\n",
    "a_guess = -2\n",
    "b_guess = 4\n",
    "ans=bs.bisection_method(my_function,a_guess,b_guess)\n",
    "print(f'found answer = {np.round(ans,4)}')\n",
    "print(f'known answer = {2.5198}')"
   ]
  },
  {
   "cell_type": "markdown",
   "metadata": {},
   "source": [
    "### Example 2 - Are you good at guessing?\n",
    "\n",
    "Example 1 provides a function with 1 root. What happen when we're trying to solve a function with multiple roots?\n",
    "\n",
    "Find the root of $y=(0.2x)^2-1$."
   ]
  },
  {
   "cell_type": "code",
   "execution_count": 2,
   "metadata": {},
   "outputs": [
    {
     "name": "stdout",
     "output_type": "stream",
     "text": [
      "initial guess 1 --------------------------\n",
      "initial guess a=-6 and b=1\n",
      "found answer = -5.0\n",
      "known answers = (-5.0,5.0)\n",
      "\n",
      "initial guess 2 --------------------------\n",
      "initial guess a=0 and b=5\n",
      "found answer = 5.0\n",
      "known answers = (-5.0,5.0)\n",
      "\n",
      " As you can see, the bisection method is very sensitive to the initial guess.\n"
     ]
    }
   ],
   "source": [
    "import numpy as np\n",
    "import bisection as bs\n",
    "from typing import Union\n",
    "\n",
    "def my_function(x:Union[int,float])->Union[int,float]:\n",
    "    return (0.2*x)**2-1\n",
    "\n",
    "a_guess = -6\n",
    "b_guess = 1\n",
    "ans=bs.bisection_method(my_function,a_guess,b_guess)\n",
    "print('initial guess 1 --------------------------')\n",
    "print(f'initial guess a={a_guess} and b={b_guess}')\n",
    "print(f'found answer = {np.round(ans,4)}')\n",
    "print(f'known answers = ({-5.0},{5.0})')\n",
    "\n",
    "a_guess2 = 0\n",
    "b_guess2 = 5\n",
    "ans=bs.bisection_method(my_function,a_guess2,b_guess2)\n",
    "print('\\ninitial guess 2 --------------------------')\n",
    "print(f'initial guess a={a_guess2} and b={b_guess2}')\n",
    "print(f'found answer = {np.round(ans,4)}')\n",
    "print(f'known answers = ({-5.0},{5.0})')\n",
    "print('\\n As you can see, the bisection method is very sensitive to the initial guess.')"
   ]
  },
  {
   "cell_type": "markdown",
   "metadata": {},
   "source": [
    "### Example 3 - Limited precision\n",
    "\n",
    "Can you guess what's happening in this example? (The first code block is supposed to fail)\n",
    "\n",
    "Find the root of $y=(0.1x)^5-0.5x-2$."
   ]
  },
  {
   "cell_type": "code",
   "execution_count": 3,
   "metadata": {},
   "outputs": [
    {
     "ename": "Exception",
     "evalue": "Bisection method cannot find a root within tolerance after 1000 iterations.",
     "output_type": "error",
     "traceback": [
      "\u001b[0;31m---------------------------------------------------------------------------\u001b[0m",
      "\u001b[0;31mException\u001b[0m                                 Traceback (most recent call last)",
      "Cell \u001b[0;32mIn[3], line 10\u001b[0m\n\u001b[1;32m      8\u001b[0m a_guess \u001b[38;5;241m=\u001b[39m \u001b[38;5;241m15\u001b[39m\n\u001b[1;32m      9\u001b[0m b_guess \u001b[38;5;241m=\u001b[39m \u001b[38;5;241m16\u001b[39m\n\u001b[0;32m---> 10\u001b[0m ans\u001b[38;5;241m=\u001b[39m\u001b[43mbs\u001b[49m\u001b[38;5;241;43m.\u001b[39;49m\u001b[43mbisection_method\u001b[49m\u001b[43m(\u001b[49m\u001b[43mmy_function\u001b[49m\u001b[43m,\u001b[49m\u001b[43ma_guess\u001b[49m\u001b[43m,\u001b[49m\u001b[43mb_guess\u001b[49m\u001b[43m)\u001b[49m\n",
      "File \u001b[0;32m/projectnb/me700/students/quan/assignments/me700_assignment1/src/bisection.py:41\u001b[0m, in \u001b[0;36mbisection_method\u001b[0;34m(func, a, b, tol, recursion_count, max_iter)\u001b[0m\n\u001b[1;32m     39\u001b[0m     \u001b[38;5;28;01mreturn\u001b[39;00m c\n\u001b[1;32m     40\u001b[0m \u001b[38;5;28;01melif\u001b[39;00m check_same_sign(func,a,c):\n\u001b[0;32m---> 41\u001b[0m     \u001b[38;5;28;01mreturn\u001b[39;00m \u001b[43mbisection_method\u001b[49m\u001b[43m(\u001b[49m\u001b[43mfunc\u001b[49m\u001b[43m,\u001b[49m\u001b[43mc\u001b[49m\u001b[43m,\u001b[49m\u001b[43mb\u001b[49m\u001b[43m,\u001b[49m\u001b[43mtol\u001b[49m\u001b[43m,\u001b[49m\u001b[43mrecursion_count\u001b[49m\u001b[43m,\u001b[49m\u001b[43mmax_iter\u001b[49m\u001b[43m)\u001b[49m\n\u001b[1;32m     42\u001b[0m \u001b[38;5;28;01melif\u001b[39;00m check_same_sign(func,b,c):\n\u001b[1;32m     43\u001b[0m     \u001b[38;5;28;01mreturn\u001b[39;00m bisection_method(func,a,c,tol,recursion_count,max_iter)\n",
      "File \u001b[0;32m/projectnb/me700/students/quan/assignments/me700_assignment1/src/bisection.py:41\u001b[0m, in \u001b[0;36mbisection_method\u001b[0;34m(func, a, b, tol, recursion_count, max_iter)\u001b[0m\n\u001b[1;32m     39\u001b[0m     \u001b[38;5;28;01mreturn\u001b[39;00m c\n\u001b[1;32m     40\u001b[0m \u001b[38;5;28;01melif\u001b[39;00m check_same_sign(func,a,c):\n\u001b[0;32m---> 41\u001b[0m     \u001b[38;5;28;01mreturn\u001b[39;00m \u001b[43mbisection_method\u001b[49m\u001b[43m(\u001b[49m\u001b[43mfunc\u001b[49m\u001b[43m,\u001b[49m\u001b[43mc\u001b[49m\u001b[43m,\u001b[49m\u001b[43mb\u001b[49m\u001b[43m,\u001b[49m\u001b[43mtol\u001b[49m\u001b[43m,\u001b[49m\u001b[43mrecursion_count\u001b[49m\u001b[43m,\u001b[49m\u001b[43mmax_iter\u001b[49m\u001b[43m)\u001b[49m\n\u001b[1;32m     42\u001b[0m \u001b[38;5;28;01melif\u001b[39;00m check_same_sign(func,b,c):\n\u001b[1;32m     43\u001b[0m     \u001b[38;5;28;01mreturn\u001b[39;00m bisection_method(func,a,c,tol,recursion_count,max_iter)\n",
      "File \u001b[0;32m/projectnb/me700/students/quan/assignments/me700_assignment1/src/bisection.py:43\u001b[0m, in \u001b[0;36mbisection_method\u001b[0;34m(func, a, b, tol, recursion_count, max_iter)\u001b[0m\n\u001b[1;32m     41\u001b[0m     \u001b[38;5;28;01mreturn\u001b[39;00m bisection_method(func,c,b,tol,recursion_count,max_iter)\n\u001b[1;32m     42\u001b[0m \u001b[38;5;28;01melif\u001b[39;00m check_same_sign(func,b,c):\n\u001b[0;32m---> 43\u001b[0m     \u001b[38;5;28;01mreturn\u001b[39;00m \u001b[43mbisection_method\u001b[49m\u001b[43m(\u001b[49m\u001b[43mfunc\u001b[49m\u001b[43m,\u001b[49m\u001b[43ma\u001b[49m\u001b[43m,\u001b[49m\u001b[43mc\u001b[49m\u001b[43m,\u001b[49m\u001b[43mtol\u001b[49m\u001b[43m,\u001b[49m\u001b[43mrecursion_count\u001b[49m\u001b[43m,\u001b[49m\u001b[43mmax_iter\u001b[49m\u001b[43m)\u001b[49m\n",
      "    \u001b[0;31m[... skipping similar frames: bisection_method at line 41 (1 times)]\u001b[0m\n",
      "File \u001b[0;32m/projectnb/me700/students/quan/assignments/me700_assignment1/src/bisection.py:43\u001b[0m, in \u001b[0;36mbisection_method\u001b[0;34m(func, a, b, tol, recursion_count, max_iter)\u001b[0m\n\u001b[1;32m     41\u001b[0m     \u001b[38;5;28;01mreturn\u001b[39;00m bisection_method(func,c,b,tol,recursion_count,max_iter)\n\u001b[1;32m     42\u001b[0m \u001b[38;5;28;01melif\u001b[39;00m check_same_sign(func,b,c):\n\u001b[0;32m---> 43\u001b[0m     \u001b[38;5;28;01mreturn\u001b[39;00m \u001b[43mbisection_method\u001b[49m\u001b[43m(\u001b[49m\u001b[43mfunc\u001b[49m\u001b[43m,\u001b[49m\u001b[43ma\u001b[49m\u001b[43m,\u001b[49m\u001b[43mc\u001b[49m\u001b[43m,\u001b[49m\u001b[43mtol\u001b[49m\u001b[43m,\u001b[49m\u001b[43mrecursion_count\u001b[49m\u001b[43m,\u001b[49m\u001b[43mmax_iter\u001b[49m\u001b[43m)\u001b[49m\n",
      "    \u001b[0;31m[... skipping similar frames: bisection_method at line 43 (22 times), bisection_method at line 41 (21 times)]\u001b[0m\n",
      "File \u001b[0;32m/projectnb/me700/students/quan/assignments/me700_assignment1/src/bisection.py:41\u001b[0m, in \u001b[0;36mbisection_method\u001b[0;34m(func, a, b, tol, recursion_count, max_iter)\u001b[0m\n\u001b[1;32m     39\u001b[0m     \u001b[38;5;28;01mreturn\u001b[39;00m c\n\u001b[1;32m     40\u001b[0m \u001b[38;5;28;01melif\u001b[39;00m check_same_sign(func,a,c):\n\u001b[0;32m---> 41\u001b[0m     \u001b[38;5;28;01mreturn\u001b[39;00m \u001b[43mbisection_method\u001b[49m\u001b[43m(\u001b[49m\u001b[43mfunc\u001b[49m\u001b[43m,\u001b[49m\u001b[43mc\u001b[49m\u001b[43m,\u001b[49m\u001b[43mb\u001b[49m\u001b[43m,\u001b[49m\u001b[43mtol\u001b[49m\u001b[43m,\u001b[49m\u001b[43mrecursion_count\u001b[49m\u001b[43m,\u001b[49m\u001b[43mmax_iter\u001b[49m\u001b[43m)\u001b[49m\n\u001b[1;32m     42\u001b[0m \u001b[38;5;28;01melif\u001b[39;00m check_same_sign(func,b,c):\n\u001b[1;32m     43\u001b[0m     \u001b[38;5;28;01mreturn\u001b[39;00m bisection_method(func,a,c,tol,recursion_count,max_iter)\n",
      "    \u001b[0;31m[... skipping similar frames: bisection_method at line 43 (951 times)]\u001b[0m\n",
      "File \u001b[0;32m/projectnb/me700/students/quan/assignments/me700_assignment1/src/bisection.py:43\u001b[0m, in \u001b[0;36mbisection_method\u001b[0;34m(func, a, b, tol, recursion_count, max_iter)\u001b[0m\n\u001b[1;32m     41\u001b[0m     \u001b[38;5;28;01mreturn\u001b[39;00m bisection_method(func,c,b,tol,recursion_count,max_iter)\n\u001b[1;32m     42\u001b[0m \u001b[38;5;28;01melif\u001b[39;00m check_same_sign(func,b,c):\n\u001b[0;32m---> 43\u001b[0m     \u001b[38;5;28;01mreturn\u001b[39;00m \u001b[43mbisection_method\u001b[49m\u001b[43m(\u001b[49m\u001b[43mfunc\u001b[49m\u001b[43m,\u001b[49m\u001b[43ma\u001b[49m\u001b[43m,\u001b[49m\u001b[43mc\u001b[49m\u001b[43m,\u001b[49m\u001b[43mtol\u001b[49m\u001b[43m,\u001b[49m\u001b[43mrecursion_count\u001b[49m\u001b[43m,\u001b[49m\u001b[43mmax_iter\u001b[49m\u001b[43m)\u001b[49m\n",
      "File \u001b[0;32m/projectnb/me700/students/quan/assignments/me700_assignment1/src/bisection.py:24\u001b[0m, in \u001b[0;36mbisection_method\u001b[0;34m(func, a, b, tol, recursion_count, max_iter)\u001b[0m\n\u001b[1;32m     21\u001b[0m \u001b[38;5;66;03m# if the function has been called recursively max_iter times,\u001b[39;00m\n\u001b[1;32m     22\u001b[0m \u001b[38;5;66;03m# bisection method is not suitable to find root.\u001b[39;00m\n\u001b[1;32m     23\u001b[0m \u001b[38;5;28;01mif\u001b[39;00m recursion_count \u001b[38;5;241m>\u001b[39m max_iter:\n\u001b[0;32m---> 24\u001b[0m     \u001b[38;5;28;01mraise\u001b[39;00m \u001b[38;5;167;01mException\u001b[39;00m(\u001b[38;5;124mf\u001b[39m\u001b[38;5;124m'\u001b[39m\u001b[38;5;124mBisection method cannot find a root within tolerance after \u001b[39m\u001b[38;5;132;01m{\u001b[39;00mmax_iter\u001b[38;5;132;01m}\u001b[39;00m\u001b[38;5;124m iterations.\u001b[39m\u001b[38;5;124m'\u001b[39m)\n\u001b[1;32m     25\u001b[0m \u001b[38;5;28;01melse\u001b[39;00m:\n\u001b[1;32m     26\u001b[0m     recursion_count\u001b[38;5;241m+\u001b[39m\u001b[38;5;241m=\u001b[39m\u001b[38;5;241m1\u001b[39m\n",
      "\u001b[0;31mException\u001b[0m: Bisection method cannot find a root within tolerance after 1000 iterations."
     ]
    }
   ],
   "source": [
    "import numpy as np\n",
    "import bisection as bs\n",
    "from typing import Union\n",
    "\n",
    "def my_function(x:Union[int,float])->Union[int,float]:\n",
    "    return (0.1*x)**5-0.5*x-2\n",
    "\n",
    "a_guess = 15\n",
    "b_guess = 16\n",
    "ans=bs.bisection_method(my_function,a_guess,b_guess)"
   ]
  },
  {
   "cell_type": "markdown",
   "metadata": {},
   "source": [
    "Here, the bisection method cannot find a solution after iterating 1000 times. We can either (i) lower the tolerance, (ii) increase the number of iterations, or (iii) select a different solver. We can first lower the tolerance since we don't have to be super precised in this problem."
   ]
  },
  {
   "cell_type": "code",
   "execution_count": 4,
   "metadata": {},
   "outputs": [
    {
     "name": "stdout",
     "output_type": "stream",
     "text": [
      "found answer = 15.82\n",
      "known answers = 15.82\n"
     ]
    }
   ],
   "source": [
    "a_guess = 15\n",
    "b_guess = 16\n",
    "ans=bs.bisection_method(my_function,a_guess,b_guess,tol=1e-8)\n",
    "print(f'found answer = {np.round(ans,2)}')\n",
    "print(f'known answers = {15.82}')"
   ]
  },
  {
   "cell_type": "markdown",
   "metadata": {},
   "source": [
    "### Example 4 - Vroom vroom\n",
    "\n",
    "Stacy is at a stoplight in her mom's car. As the light turns green, Stacy accelerates at a rate of $5.50m/s^2$ before having to hard break after traveling $15m$ due to a deer running by. Assuming that Stacy has not reached top speed during the duration, how long did it take for Stacy to travel the distance before stopping?\n",
    "\n",
    "Ans: We can use the simple kinematic equation $\\Delta x=v_it+\\frac{1}{2}at^2$"
   ]
  },
  {
   "cell_type": "code",
   "execution_count": 5,
   "metadata": {},
   "outputs": [
    {
     "name": "stdout",
     "output_type": "stream",
     "text": [
      "found answer = 2.9277\n",
      "known answers = 2.9277\n"
     ]
    }
   ],
   "source": [
    "import numpy as np\n",
    "import bisection as bs\n",
    "from typing import Union\n",
    "\n",
    "def my_function(x:Union[int,float])->Union[int,float]:\n",
    "    return 0.5*3.50*x**2-15\n",
    "\n",
    "a_guess = 0\n",
    "b_guess = 5\n",
    "ans=bs.bisection_method(my_function,a_guess,b_guess)\n",
    "print(f'found answer = {np.round(ans,4)}')\n",
    "print(f'known answers = {2.9277}')"
   ]
  },
  {
   "cell_type": "markdown",
   "metadata": {},
   "source": [
    "### Example 5 - Oscillation\n",
    "\n",
    "A mass $m$ is attached to the end of a spring with $k=1$ that follows Hooke's law. When pulled, the mass takes $5s$ to travel up and down. Assuming negligible friction and constant amplitude of oscillation, what is the mass $m$?\n",
    "\n",
    "Ans: $f=\\frac{1}{T}=\\frac{1}{2\\pi}\\sqrt{\\frac{k}{m}}\\Rightarrow \\frac{1}{5}=\\frac{1}{2\\pi}\\sqrt{\\frac{1}{m}}$"
   ]
  },
  {
   "cell_type": "code",
   "execution_count": 6,
   "metadata": {},
   "outputs": [
    {
     "name": "stdout",
     "output_type": "stream",
     "text": [
      "found answer = 0.6333\n",
      "known answers = 0.6333\n"
     ]
    }
   ],
   "source": [
    "import numpy as np\n",
    "import bisection as bs\n",
    "from typing import Union\n",
    "\n",
    "def my_function(x:Union[int,float])->Union[int,float]:\n",
    "    return 5/(2*np.pi)*np.sqrt(1/x)-1\n",
    "\n",
    "a_guess = 0.1\n",
    "b_guess = 5\n",
    "ans=bs.bisection_method(my_function,a_guess,b_guess)\n",
    "print(f'found answer = {np.round(ans,4)}')\n",
    "print(f'known answers = {0.6333}')"
   ]
  },
  {
   "cell_type": "markdown",
   "metadata": {},
   "source": [
    "## Newton-Raphson Method\n",
    "\n",
    "In numerical analysis, the Newton–Raphson method, also known simply as Newton's method, named after Isaac Newton and Joseph Raphson, is a root-finding algorithm which produces successively better approximations to the roots (or zeroes) of a real-valued function [2]. The most basic version starts with a real-valued function f, its derivative f′, and an initial guess x0 for a root of f. If f satisfies certain assumptions and the initial guess is close, then \n",
    "\n",
    "$x_{n+1}=x_n-\\frac{f(x_n)}{f'(x_n)}$\n",
    "\n",
    "is a better approximation of the root than x0. The process is repeated until a sufficiently precise value is reached.\n",
    "\n",
    "[2] https://en.wikipedia.org/wiki/Newton's_method"
   ]
  },
  {
   "cell_type": "markdown",
   "metadata": {},
   "source": [
    "### Example 1 - Warm-up\n",
    "\n",
    "To get started, solve the following equation: $0=(x-3)^3$."
   ]
  },
  {
   "cell_type": "code",
   "execution_count": null,
   "metadata": {},
   "outputs": [
    {
     "name": "stdout",
     "output_type": "stream",
     "text": [
      "3.000004635640045\n"
     ]
    }
   ],
   "source": [
    "import newton as nt\n",
    "from typing import Union\n",
    "\n",
    "def func_to_solve(x:Union[float,int])->Union[float,int]:\n",
    "    return (x-3)**3\n",
    "def func_derivative(x:Union[float,int])->Union[float,int]:\n",
    "    return 3*(x-3)**2\n",
    "\n",
    "x_guess = 5\n",
    "ans = nt.newton_1D(func_to_solve,func_derivative,x_guess)\n",
    "print(ans)"
   ]
  },
  {
   "cell_type": "markdown",
   "metadata": {},
   "source": [
    "### Example 2 - System of equations\n",
    "\n",
    "We've just solved  a single equation using Newton-Raphson. However, the method has more potential than that. Let's try to solve this system of equations:\n",
    "\n",
    "$x^2-4x+5-y=0$$\n",
    "\n",
    "$e^x-y=0$"
   ]
  },
  {
   "cell_type": "code",
   "execution_count": null,
   "metadata": {},
   "outputs": [
    {
     "name": "stdout",
     "output_type": "stream",
     "text": [
      "[0.84630378 2.33101497]\n"
     ]
    }
   ],
   "source": [
    "import newton as nt\n",
    "\n",
    "def functions(x:np.ndarray)->np.ndarray:\n",
    "    return np.array([\n",
    "        x[0]**2-4*x[0]+5-x[1],\n",
    "        np.exp(x[0])-x[1]\n",
    "    ])\n",
    "\n",
    "def jac(x:np.ndarray)->np.ndarray:\n",
    "    return np.array([\n",
    "        [2*x[0]-4,-1],\n",
    "        [np.exp(x[0]),-1]\n",
    "    ])\n",
    "\n",
    "x_guess=[0,0]\n",
    "\n",
    "ans = nt.newton_raphson(functions,jac,x_guess)\n",
    "print(ans)"
   ]
  },
  {
   "cell_type": "markdown",
   "metadata": {},
   "source": [
    "### Example 3 - Floating Ball\n",
    "\n",
    "A floating ball has a specific gravity of 0.6 and has a radius of 5.5 cm.  You are asked to find the depth to which the ball is submerged when floating in water. The equation that gives the depth $x$ in meters to which the ball is submerged under water is given by \n",
    "\n",
    "$x^3-0.165x^2+3.993*10^{-4}=0$\n",
    "\n",
    "Something to think about: Why is the initial guess x_guess=0 bad?"
   ]
  },
  {
   "cell_type": "code",
   "execution_count": 3,
   "metadata": {},
   "outputs": [
    {
     "name": "stdout",
     "output_type": "stream",
     "text": [
      "0.06242222222222221\n"
     ]
    }
   ],
   "source": [
    "import newton as nt\n",
    "from typing import Union\n",
    "\n",
    "def funcs(x:Union[float,int])->Union[float,int]:\n",
    "    return x**3 - 0.165*x**2 + 3.993e-4\n",
    "def f_derivative(x:Union[float,int])->Union[float,int]:\n",
    "    return 3*x**2 - 0.33*x\n",
    "\n",
    "x_guess=0.05\n",
    "\n",
    "ans = nt.newton_raphson(funcs,f_derivative,x_guess)\n",
    "print(ans)"
   ]
  },
  {
   "cell_type": "markdown",
   "metadata": {},
   "source": [
    "### Example 4 - Oscillation\n",
    "\n",
    "A mass $m$ is attached to the end of a spring with $k=1$ that follows Hooke's law. When pulled, the mass takes $5s$ to travel up and down. Assuming negligible friction and constant amplitude of oscillation, what is the mass $m$?\n",
    "\n",
    "Ans: $f=\\frac{1}{T}=\\frac{1}{2\\pi}\\sqrt{\\frac{k}{m}}\\Rightarrow \\frac{1}{5}=\\frac{1}{2\\pi}\\sqrt{\\frac{1}{m}}$"
   ]
  },
  {
   "cell_type": "code",
   "execution_count": 6,
   "metadata": {},
   "outputs": [
    {
     "name": "stdout",
     "output_type": "stream",
     "text": [
      "0.611423412368327\n"
     ]
    }
   ],
   "source": [
    "import numpy as np\n",
    "import newton as nt\n",
    "from typing import Union\n",
    "\n",
    "def funcs(x:Union[int,float])->Union[int,float]:\n",
    "    return 5/(2*np.pi)*np.sqrt(1/x)-1\n",
    "\n",
    "def f_derivative(x:Union[float,int])->Union[float,int]:\n",
    "    return -5 / (4*np.pi*np.power(x,3/2))\n",
    "\n",
    "x_guess=0.5\n",
    "\n",
    "ans = nt.newton_raphson(funcs,f_derivative,x_guess)\n",
    "print(ans)"
   ]
  },
  {
   "cell_type": "markdown",
   "metadata": {},
   "source": [
    "### Example 5 - I'm watching the SuperBowl\n",
    "\n",
    "Solve the system of equations, there might be more than 1 root.\n",
    "\n",
    "$x-y+1=0$\n",
    "\n",
    "$x^2+1-y=0$"
   ]
  },
  {
   "cell_type": "code",
   "execution_count": 15,
   "metadata": {},
   "outputs": [
    {
     "name": "stdout",
     "output_type": "stream",
     "text": [
      "[0. 1.]\n",
      "There is another answer:\n",
      "[1. 2.]\n"
     ]
    }
   ],
   "source": [
    "import newton as nt\n",
    "\n",
    "def functions(x:np.ndarray)->np.ndarray:\n",
    "    return np.array([\n",
    "        x[0]-x[1]+1,\n",
    "        x[0]**2+1-x[1]\n",
    "    ])\n",
    "\n",
    "def jac(x:np.ndarray)->np.ndarray:\n",
    "    return np.array([\n",
    "        [1,-1],\n",
    "        [2*x[0],-1]\n",
    "    ])\n",
    "\n",
    "x_guess=[0,0]\n",
    "ans = nt.newton_raphson(functions,jac,x_guess)\n",
    "print(ans)\n",
    "\n",
    "print('There is another answer:')\n",
    "x_guess=[2,3]\n",
    "ans = nt.newton_raphson(functions,jac,x_guess)\n",
    "print(ans)"
   ]
  },
  {
   "cell_type": "markdown",
   "metadata": {},
   "source": [
    "## Elastoplastic\n",
    "\n",
    "metapods"
   ]
  },
  {
   "cell_type": "markdown",
   "metadata": {},
   "source": [
    "### Example 1 - Let's try to replicate the Isotropic Hardening example in class\n",
    "\n",
    "$E=1000$\n",
    "$~~E_t=100$\n",
    "$~~Y_0=10$\n",
    "\n",
    "$\\sigma_n=0$\n",
    "$~~\\epsilon_p^n=0$"
   ]
  },
  {
   "cell_type": "code",
   "execution_count": 1,
   "metadata": {},
   "outputs": [],
   "source": [
    "import elastoplastic as ep\n",
    "import numpy as np\n",
    "\n",
    "E=1000\n",
    "E_t=100\n",
    "Y0=10\n",
    "sigma_n=0\n",
    "epsilon_p_n=0\n",
    "H=(E*E_t)/(E-E_t)\n",
    "\n",
    "strain_1 = np.linspace(0,0.05,1000)\n",
    "strain_2 = np.linspace(0.05,-0.05,2000)\n",
    "strain_3 = np.linspace(-0.05,0.075,2500)\n",
    "strain_4 = np.linspace(0.075,-0.025,2000)\n",
    "strain_list=np.concatenate((strain_1,strain_2,strain_3,strain_4),axis=0)\n",
    "\n",
    "iso_mat = ep.IsotropicHardening(E=E,H=H,Y0=Y0)\n",
    "stress_list = iso_mat.start_experiment(strain_list)"
   ]
  },
  {
   "cell_type": "code",
   "execution_count": 3,
   "metadata": {},
   "outputs": [],
   "source": [
    "# steps_arr = np.linspace(0,len(strain_list)-1,len(strain_list),dtype=int)\n",
    "# plt.plot(steps_arr,strain_list)"
   ]
  },
  {
   "cell_type": "code",
   "execution_count": 2,
   "metadata": {},
   "outputs": [
    {
     "data": {
      "text/plain": [
       "Text(0.5, 1.0, 'isotropic hardening behavior')"
      ]
     },
     "execution_count": 2,
     "metadata": {},
     "output_type": "execute_result"
    },
    {
     "data": {
      "image/png": "[encoded data removed]",
      "text/plain": [
       "<Figure size 600x400 with 1 Axes>"
      ]
     },
     "metadata": {},
     "output_type": "display_data"
    }
   ],
   "source": [
    "import matplotlib.pyplot as plt\n",
    "\n",
    "fig,ax = plt.subplots(ncols=1,nrows=1,figsize=(6,4))\n",
    "\n",
    "ax.plot(strain_list,stress_list)\n",
    "ax.set_xlabel('strain')\n",
    "ax.set_ylabel('stress')\n",
    "ax.set_title('isotropic hardening behavior')"
   ]
  },
  {
   "cell_type": "markdown",
   "metadata": {},
   "source": [
    "### Example 2 - now we recreate the Kinematic Hardening example\n",
    "\n",
    "$E=1000$\n",
    "$~~E_t=100$\n",
    "$~~Y_0=10$\n",
    "\n",
    "$\\sigma_n=0$\n",
    "$~~\\epsilon_p^n=0$\n",
    "$~~\\alpha^n=0$"
   ]
  },
  {
   "cell_type": "code",
   "execution_count": 3,
   "metadata": {},
   "outputs": [],
   "source": [
    "import elastoplastic as ep\n",
    "import numpy as np\n",
    "\n",
    "E=1000\n",
    "E_t=100\n",
    "Y0=10\n",
    "sigma_n=0\n",
    "epsilon_p_n=0\n",
    "H=(E*E_t)/(E-E_t)\n",
    "\n",
    "strain_1 = np.linspace(0,0.05,1000)\n",
    "strain_2 = np.linspace(0.05,-0.05,2000)\n",
    "strain_3 = np.linspace(-0.05,0.075,2500)\n",
    "strain_4 = np.linspace(0.075,-0.025,2000)\n",
    "strain_list=np.concatenate((strain_1,strain_2,strain_3,strain_4),axis=0)\n",
    "\n",
    "iso_mat = ep.KinematicHardening(E=E,H=H,Y0=Y0)\n",
    "stress_list = iso_mat.start_experiment(strain_list)"
   ]
  },
  {
   "cell_type": "code",
   "execution_count": 4,
   "metadata": {},
   "outputs": [
    {
     "data": {
      "text/plain": [
       "Text(0.5, 1.0, 'kinematic hardening behavior')"
      ]
     },
     "execution_count": 4,
     "metadata": {},
     "output_type": "execute_result"
    },
    {
     "data": {
      "image/png": "[encoded data removed]",
      "text/plain": [
       "<Figure size 600x400 with 1 Axes>"
      ]
     },
     "metadata": {},
     "output_type": "display_data"
    }
   ],
   "source": [
    "import matplotlib.pyplot as plt\n",
    "\n",
    "fig,ax = plt.subplots(ncols=1,nrows=1,figsize=(6,4))\n",
    "\n",
    "ax.plot(strain_list,stress_list)\n",
    "ax.set_xlabel('strain')\n",
    "ax.set_ylabel('stress')\n",
    "ax.set_title('kinematic hardening behavior')"
   ]
  }
 ],
 "metadata": {
  "kernelspec": {
   "display_name": "Python 3",
   "language": "python",
   "name": "python3"
  },
  "language_info": {
   "codemirror_mode": {
    "name": "ipython",
    "version": 3
   },
   "file_extension": ".py",
   "mimetype": "text/x-python",
   "name": "python",
   "nbconvert_exporter": "python",
   "pygments_lexer": "ipython3",
   "version": "3.9.12"
  }
 },
 "nbformat": 4,
 "nbformat_minor": 2
}
