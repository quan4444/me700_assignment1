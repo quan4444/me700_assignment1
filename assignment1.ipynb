{
 "cells": [
  {
   "cell_type": "markdown",
   "metadata": {},
   "source": [
    "## Bisection method\n",
    "\n",
    "The bisection  method is a root-finding method that applies to any continuous function for which one knows two values with opposite signs [1]. While the method is simple, it comes with some disadvantages - slow convergence, requires bracketing, not suitable for multiple roots, limited precision, and requires evaluation of the function in question. Here, we will go through some examples to demonstrate the functionality and weaknesses of the bisection method.\n",
    "\n",
    "[1] https://en.wikipedia.org/wiki/Bisection_method"
   ]
  },
  {
   "cell_type": "markdown",
   "metadata": {},
   "source": [
    "### Example 1 - Warming up\n",
    "\n",
    "Let's start of with an easy example:\n",
    "\n",
    "Find the root of $y=(0.5x)^3-2$."
   ]
  },
  {
   "cell_type": "code",
   "execution_count": 1,
   "metadata": {},
   "outputs": [
    {
     "name": "stdout",
     "output_type": "stream",
     "text": [
      "found answer = 2.5198\n",
      "known answer = 2.5198\n"
     ]
    }
   ],
   "source": [
    "import numpy as np\n",
    "import bisection as bs\n",
    "from typing import Union\n",
    "\n",
    "def my_function(x:Union[int,float])->Union[int,float]:\n",
    "    return (0.5*x)**3 - 2\n",
    "\n",
    "a_guess = -2\n",
    "b_guess = 4\n",
    "ans=bs.bisection_method(my_function,a_guess,b_guess)\n",
    "print(f'found answer = {np.round(ans,4)}')\n",
    "print(f'known answer = {2.5198}')"
   ]
  },
  {
   "cell_type": "markdown",
   "metadata": {},
   "source": [
    "### Example 2 - Are you good at guessing?\n",
    "\n",
    "Example 1 provides a function with 1 root. What happen when we're trying to solve a function with multiple roots?\n",
    "\n",
    "Find the root of $y=(0.2x)^2-1$."
   ]
  },
  {
   "cell_type": "code",
   "execution_count": 2,
   "metadata": {},
   "outputs": [
    {
     "name": "stdout",
     "output_type": "stream",
     "text": [
      "initial guess 1 --------------------------\n",
      "initial guess a=-6 and b=1\n",
      "found answer = -5.0\n",
      "known answers = (-5.0,5.0)\n",
      "\n",
      "initial guess 2 --------------------------\n",
      "initial guess a=0 and b=5\n",
      "found answer = 5.0\n",
      "known answers = (-5.0,5.0)\n",
      "\n",
      " As you can see, the bisection method is very sensitive to the initial guess.\n"
     ]
    }
   ],
   "source": [
    "import numpy as np\n",
    "import bisection as bs\n",
    "from typing import Union\n",
    "\n",
    "def my_function(x:Union[int,float])->Union[int,float]:\n",
    "    return (0.2*x)**2-1\n",
    "\n",
    "a_guess = -6\n",
    "b_guess = 1\n",
    "ans=bs.bisection_method(my_function,a_guess,b_guess)\n",
    "print('initial guess 1 --------------------------')\n",
    "print(f'initial guess a={a_guess} and b={b_guess}')\n",
    "print(f'found answer = {np.round(ans,4)}')\n",
    "print(f'known answers = ({-5.0},{5.0})')\n",
    "\n",
    "a_guess2 = 0\n",
    "b_guess2 = 5\n",
    "ans=bs.bisection_method(my_function,a_guess2,b_guess2)\n",
    "print('\\ninitial guess 2 --------------------------')\n",
    "print(f'initial guess a={a_guess2} and b={b_guess2}')\n",
    "print(f'found answer = {np.round(ans,4)}')\n",
    "print(f'known answers = ({-5.0},{5.0})')\n",
    "print('\\n As you can see, the bisection method is very sensitive to the initial guess.')"
   ]
  },
  {
   "cell_type": "markdown",
   "metadata": {},
   "source": [
    "### Example 3 - Limited precision\n",
    "\n",
    "Can you guess what's happening in this example? (The first code block is supposed to fail)\n",
    "\n",
    "Find the root of $y=(1.5x)^5-5x-2$ with your own initial guesses, and with initial guesses of -1 & 20."
   ]
  },
  {
   "cell_type": "code",
   "execution_count": 3,
   "metadata": {},
   "outputs": [
    {
     "ename": "Exception",
     "evalue": "Bisection method cannot find a root within tolerance after 1000 iterations.",
     "output_type": "error",
     "traceback": [
      "\u001b[0;31m---------------------------------------------------------------------------\u001b[0m",
      "\u001b[0;31mException\u001b[0m                                 Traceback (most recent call last)",
      "Cell \u001b[0;32mIn[3], line 10\u001b[0m\n\u001b[1;32m      8\u001b[0m a_guess \u001b[38;5;241m=\u001b[39m \u001b[38;5;241m15\u001b[39m\n\u001b[1;32m      9\u001b[0m b_guess \u001b[38;5;241m=\u001b[39m \u001b[38;5;241m16\u001b[39m\n\u001b[0;32m---> 10\u001b[0m ans\u001b[38;5;241m=\u001b[39m\u001b[43mbs\u001b[49m\u001b[38;5;241;43m.\u001b[39;49m\u001b[43mbisection_method\u001b[49m\u001b[43m(\u001b[49m\u001b[43mmy_function\u001b[49m\u001b[43m,\u001b[49m\u001b[43ma_guess\u001b[49m\u001b[43m,\u001b[49m\u001b[43mb_guess\u001b[49m\u001b[43m)\u001b[49m\n",
      "File \u001b[0;32m/projectnb/me700/students/quan/assignments/me700_assignment1/src/bisection.py:41\u001b[0m, in \u001b[0;36mbisection_method\u001b[0;34m(func, a, b, tol, recursion_count, max_iter)\u001b[0m\n\u001b[1;32m     39\u001b[0m     \u001b[38;5;28;01mreturn\u001b[39;00m c\n\u001b[1;32m     40\u001b[0m \u001b[38;5;28;01melif\u001b[39;00m check_same_sign(func,a,c):\n\u001b[0;32m---> 41\u001b[0m     \u001b[38;5;28;01mreturn\u001b[39;00m \u001b[43mbisection_method\u001b[49m\u001b[43m(\u001b[49m\u001b[43mfunc\u001b[49m\u001b[43m,\u001b[49m\u001b[43mc\u001b[49m\u001b[43m,\u001b[49m\u001b[43mb\u001b[49m\u001b[43m,\u001b[49m\u001b[43mtol\u001b[49m\u001b[43m,\u001b[49m\u001b[43mrecursion_count\u001b[49m\u001b[43m,\u001b[49m\u001b[43mmax_iter\u001b[49m\u001b[43m)\u001b[49m\n\u001b[1;32m     42\u001b[0m \u001b[38;5;28;01melif\u001b[39;00m check_same_sign(func,b,c):\n\u001b[1;32m     43\u001b[0m     \u001b[38;5;28;01mreturn\u001b[39;00m bisection_method(func,a,c,tol,recursion_count,max_iter)\n",
      "File \u001b[0;32m/projectnb/me700/students/quan/assignments/me700_assignment1/src/bisection.py:41\u001b[0m, in \u001b[0;36mbisection_method\u001b[0;34m(func, a, b, tol, recursion_count, max_iter)\u001b[0m\n\u001b[1;32m     39\u001b[0m     \u001b[38;5;28;01mreturn\u001b[39;00m c\n\u001b[1;32m     40\u001b[0m \u001b[38;5;28;01melif\u001b[39;00m check_same_sign(func,a,c):\n\u001b[0;32m---> 41\u001b[0m     \u001b[38;5;28;01mreturn\u001b[39;00m \u001b[43mbisection_method\u001b[49m\u001b[43m(\u001b[49m\u001b[43mfunc\u001b[49m\u001b[43m,\u001b[49m\u001b[43mc\u001b[49m\u001b[43m,\u001b[49m\u001b[43mb\u001b[49m\u001b[43m,\u001b[49m\u001b[43mtol\u001b[49m\u001b[43m,\u001b[49m\u001b[43mrecursion_count\u001b[49m\u001b[43m,\u001b[49m\u001b[43mmax_iter\u001b[49m\u001b[43m)\u001b[49m\n\u001b[1;32m     42\u001b[0m \u001b[38;5;28;01melif\u001b[39;00m check_same_sign(func,b,c):\n\u001b[1;32m     43\u001b[0m     \u001b[38;5;28;01mreturn\u001b[39;00m bisection_method(func,a,c,tol,recursion_count,max_iter)\n",
      "File \u001b[0;32m/projectnb/me700/students/quan/assignments/me700_assignment1/src/bisection.py:43\u001b[0m, in \u001b[0;36mbisection_method\u001b[0;34m(func, a, b, tol, recursion_count, max_iter)\u001b[0m\n\u001b[1;32m     41\u001b[0m     \u001b[38;5;28;01mreturn\u001b[39;00m bisection_method(func,c,b,tol,recursion_count,max_iter)\n\u001b[1;32m     42\u001b[0m \u001b[38;5;28;01melif\u001b[39;00m check_same_sign(func,b,c):\n\u001b[0;32m---> 43\u001b[0m     \u001b[38;5;28;01mreturn\u001b[39;00m \u001b[43mbisection_method\u001b[49m\u001b[43m(\u001b[49m\u001b[43mfunc\u001b[49m\u001b[43m,\u001b[49m\u001b[43ma\u001b[49m\u001b[43m,\u001b[49m\u001b[43mc\u001b[49m\u001b[43m,\u001b[49m\u001b[43mtol\u001b[49m\u001b[43m,\u001b[49m\u001b[43mrecursion_count\u001b[49m\u001b[43m,\u001b[49m\u001b[43mmax_iter\u001b[49m\u001b[43m)\u001b[49m\n",
      "    \u001b[0;31m[... skipping similar frames: bisection_method at line 41 (1 times)]\u001b[0m\n",
      "File \u001b[0;32m/projectnb/me700/students/quan/assignments/me700_assignment1/src/bisection.py:43\u001b[0m, in \u001b[0;36mbisection_method\u001b[0;34m(func, a, b, tol, recursion_count, max_iter)\u001b[0m\n\u001b[1;32m     41\u001b[0m     \u001b[38;5;28;01mreturn\u001b[39;00m bisection_method(func,c,b,tol,recursion_count,max_iter)\n\u001b[1;32m     42\u001b[0m \u001b[38;5;28;01melif\u001b[39;00m check_same_sign(func,b,c):\n\u001b[0;32m---> 43\u001b[0m     \u001b[38;5;28;01mreturn\u001b[39;00m \u001b[43mbisection_method\u001b[49m\u001b[43m(\u001b[49m\u001b[43mfunc\u001b[49m\u001b[43m,\u001b[49m\u001b[43ma\u001b[49m\u001b[43m,\u001b[49m\u001b[43mc\u001b[49m\u001b[43m,\u001b[49m\u001b[43mtol\u001b[49m\u001b[43m,\u001b[49m\u001b[43mrecursion_count\u001b[49m\u001b[43m,\u001b[49m\u001b[43mmax_iter\u001b[49m\u001b[43m)\u001b[49m\n",
      "    \u001b[0;31m[... skipping similar frames: bisection_method at line 43 (22 times), bisection_method at line 41 (21 times)]\u001b[0m\n",
      "File \u001b[0;32m/projectnb/me700/students/quan/assignments/me700_assignment1/src/bisection.py:41\u001b[0m, in \u001b[0;36mbisection_method\u001b[0;34m(func, a, b, tol, recursion_count, max_iter)\u001b[0m\n\u001b[1;32m     39\u001b[0m     \u001b[38;5;28;01mreturn\u001b[39;00m c\n\u001b[1;32m     40\u001b[0m \u001b[38;5;28;01melif\u001b[39;00m check_same_sign(func,a,c):\n\u001b[0;32m---> 41\u001b[0m     \u001b[38;5;28;01mreturn\u001b[39;00m \u001b[43mbisection_method\u001b[49m\u001b[43m(\u001b[49m\u001b[43mfunc\u001b[49m\u001b[43m,\u001b[49m\u001b[43mc\u001b[49m\u001b[43m,\u001b[49m\u001b[43mb\u001b[49m\u001b[43m,\u001b[49m\u001b[43mtol\u001b[49m\u001b[43m,\u001b[49m\u001b[43mrecursion_count\u001b[49m\u001b[43m,\u001b[49m\u001b[43mmax_iter\u001b[49m\u001b[43m)\u001b[49m\n\u001b[1;32m     42\u001b[0m \u001b[38;5;28;01melif\u001b[39;00m check_same_sign(func,b,c):\n\u001b[1;32m     43\u001b[0m     \u001b[38;5;28;01mreturn\u001b[39;00m bisection_method(func,a,c,tol,recursion_count,max_iter)\n",
      "    \u001b[0;31m[... skipping similar frames: bisection_method at line 43 (951 times)]\u001b[0m\n",
      "File \u001b[0;32m/projectnb/me700/students/quan/assignments/me700_assignment1/src/bisection.py:43\u001b[0m, in \u001b[0;36mbisection_method\u001b[0;34m(func, a, b, tol, recursion_count, max_iter)\u001b[0m\n\u001b[1;32m     41\u001b[0m     \u001b[38;5;28;01mreturn\u001b[39;00m bisection_method(func,c,b,tol,recursion_count,max_iter)\n\u001b[1;32m     42\u001b[0m \u001b[38;5;28;01melif\u001b[39;00m check_same_sign(func,b,c):\n\u001b[0;32m---> 43\u001b[0m     \u001b[38;5;28;01mreturn\u001b[39;00m \u001b[43mbisection_method\u001b[49m\u001b[43m(\u001b[49m\u001b[43mfunc\u001b[49m\u001b[43m,\u001b[49m\u001b[43ma\u001b[49m\u001b[43m,\u001b[49m\u001b[43mc\u001b[49m\u001b[43m,\u001b[49m\u001b[43mtol\u001b[49m\u001b[43m,\u001b[49m\u001b[43mrecursion_count\u001b[49m\u001b[43m,\u001b[49m\u001b[43mmax_iter\u001b[49m\u001b[43m)\u001b[49m\n",
      "File \u001b[0;32m/projectnb/me700/students/quan/assignments/me700_assignment1/src/bisection.py:24\u001b[0m, in \u001b[0;36mbisection_method\u001b[0;34m(func, a, b, tol, recursion_count, max_iter)\u001b[0m\n\u001b[1;32m     21\u001b[0m \u001b[38;5;66;03m# if the function has been called recursively max_iter times,\u001b[39;00m\n\u001b[1;32m     22\u001b[0m \u001b[38;5;66;03m# bisection method is not suitable to find root.\u001b[39;00m\n\u001b[1;32m     23\u001b[0m \u001b[38;5;28;01mif\u001b[39;00m recursion_count \u001b[38;5;241m>\u001b[39m max_iter:\n\u001b[0;32m---> 24\u001b[0m     \u001b[38;5;28;01mraise\u001b[39;00m \u001b[38;5;167;01mException\u001b[39;00m(\u001b[38;5;124mf\u001b[39m\u001b[38;5;124m'\u001b[39m\u001b[38;5;124mBisection method cannot find a root within tolerance after \u001b[39m\u001b[38;5;132;01m{\u001b[39;00mmax_iter\u001b[38;5;132;01m}\u001b[39;00m\u001b[38;5;124m iterations.\u001b[39m\u001b[38;5;124m'\u001b[39m)\n\u001b[1;32m     25\u001b[0m \u001b[38;5;28;01melse\u001b[39;00m:\n\u001b[1;32m     26\u001b[0m     recursion_count\u001b[38;5;241m+\u001b[39m\u001b[38;5;241m=\u001b[39m\u001b[38;5;241m1\u001b[39m\n",
      "\u001b[0;31mException\u001b[0m: Bisection method cannot find a root within tolerance after 1000 iterations."
     ]
    }
   ],
   "source": [
    "import numpy as np\n",
    "import bisection as bs\n",
    "from typing import Union\n",
    "\n",
    "def my_function(x:Union[int,float])->Union[int,float]:\n",
    "    return (0.1*x)**5-0.5*x-2\n",
    "\n",
    "a_guess = 15\n",
    "b_guess = 16\n",
    "ans=bs.bisection_method(my_function,a_guess,b_guess)"
   ]
  },
  {
   "cell_type": "markdown",
   "metadata": {},
   "source": [
    "Here, the bisection method cannot find a solution after iterating 1000 times. We can either (i) lower the tolerance, (ii) increase the number of iterations, or (iii) select a different solver. We can first lower the tolerance since we don't have to be super precised in this problem."
   ]
  },
  {
   "cell_type": "code",
   "execution_count": 4,
   "metadata": {},
   "outputs": [
    {
     "name": "stdout",
     "output_type": "stream",
     "text": [
      "found answer = 15.82\n",
      "known answers = 15.82\n"
     ]
    }
   ],
   "source": [
    "a_guess = 15\n",
    "b_guess = 16\n",
    "ans=bs.bisection_method(my_function,a_guess,b_guess,tol=1e-8)\n",
    "print(f'found answer = {np.round(ans,2)}')\n",
    "print(f'known answers = {15.82}')"
   ]
  },
  {
   "cell_type": "markdown",
   "metadata": {},
   "source": [
    "### Example 4 - Vroom vroom\n",
    "\n",
    "Stacy is at a stoplight in her mom's car. As the light turns green, Stacy accelerates at a rate of $5.50m/s^2$ before having to hard break after traveling $15m$ due to a deer running by. Assuming that Stacy has not reached top speed during the duration, how long did it take for Stacy to travel the distance before stopping?\n",
    "\n",
    "Ans: We can use the simple kinematic equation $\\Delta x=v_it+\\frac{1}{2}at^2$"
   ]
  },
  {
   "cell_type": "code",
   "execution_count": 5,
   "metadata": {},
   "outputs": [
    {
     "name": "stdout",
     "output_type": "stream",
     "text": [
      "found answer = 2.9277\n",
      "known answers = 2.9277\n"
     ]
    }
   ],
   "source": [
    "import numpy as np\n",
    "import bisection as bs\n",
    "from typing import Union\n",
    "\n",
    "def my_function(x:Union[int,float])->Union[int,float]:\n",
    "    return 0.5*3.50*x**2-15\n",
    "\n",
    "a_guess = 0\n",
    "b_guess = 5\n",
    "ans=bs.bisection_method(my_function,a_guess,b_guess)\n",
    "print(f'found answer = {np.round(ans,4)}')\n",
    "print(f'known answers = {2.9277}')"
   ]
  },
  {
   "cell_type": "markdown",
   "metadata": {},
   "source": [
    "### Example 5 - Oscillation\n",
    "\n",
    "A mass $m$ is attached to the end of a spring with $k=1$ that follows Hooke's law. When pulled, the mass takes $5s$ to travel up and down. Assuming negligible friction and constant amplitude of oscillation, what is the mass $m$?\n",
    "\n",
    "Ans: $f=\\frac{1}{T}=\\frac{1}{2\\pi}\\sqrt{\\frac{k}{m}}\\Rightarrow \\frac{1}{5}=\\frac{1}{2\\pi}\\sqrt{\\frac{1}{m}}$"
   ]
  },
  {
   "cell_type": "code",
   "execution_count": 6,
   "metadata": {},
   "outputs": [
    {
     "name": "stdout",
     "output_type": "stream",
     "text": [
      "found answer = 0.6333\n",
      "known answers = 0.6333\n"
     ]
    }
   ],
   "source": [
    "import numpy as np\n",
    "import bisection as bs\n",
    "from typing import Union\n",
    "\n",
    "def my_function(x:Union[int,float])->Union[int,float]:\n",
    "    return 5/(2*np.pi)*np.sqrt(1/x)-1\n",
    "\n",
    "a_guess = 0.1\n",
    "b_guess = 5\n",
    "ans=bs.bisection_method(my_function,a_guess,b_guess)\n",
    "print(f'found answer = {np.round(ans,4)}')\n",
    "print(f'known answers = {0.6333}')"
   ]
  }
 ],
 "metadata": {
  "kernelspec": {
   "display_name": "me700",
   "language": "python",
   "name": "python3"
  },
  "language_info": {
   "codemirror_mode": {
    "name": "ipython",
    "version": 3
   },
   "file_extension": ".py",
   "mimetype": "text/x-python",
   "name": "python",
   "nbconvert_exporter": "python",
   "pygments_lexer": "ipython3",
   "version": "3.9.12"
  }
 },
 "nbformat": 4,
 "nbformat_minor": 2
}
